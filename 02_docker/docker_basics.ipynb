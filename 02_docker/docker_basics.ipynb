{
 "cells": [
  {
   "cell_type": "markdown",
   "id": "d00c19aa-b7e7-43c8-834c-6ff734ec12ba",
   "metadata": {},
   "source": [
    "# Docker Basics"
   ]
  },
  {
   "cell_type": "markdown",
   "id": "4fce02db-1447-4b1b-a321-d5f78dd9e608",
   "metadata": {},
   "source": [
    "|key|description|\n",
    "|-|-|\n",
    "|**Create image**||\n",
    "|`docker biuld [params] <dir>`||\n",
    "|`-t <tag>`|add a tag (name) for the image|\n",
    "|`-p <number>:<number>`|open the image's port for the external world|\n",
    "|**List data**||\n",
    "|`docker images`|list all existing images on the system|\n",
    "|`docker images -q`|list ids of the images|\n",
    "|`docker ps`|list running Docker containers|\n",
    "|`docker ps -a`|list all the Docker containers, including stopped|\n",
    "|`docker ps -a -q`|list only ids of the containers|\n",
    "|**Run a container**||\n",
    "|`docker run [params] <tag>`||\n",
    "|`--name <name>`|add a name to the container|\n",
    "|`-d`|run the container in the background|\n",
    "|`--rm`|remove the container after it has been stoped|\n",
    "|`-e <parameter>`|add an environmental variable (`-e TZ=Europe/Yekaterinburg`)|\n",
    "|`-v <host_dir_path>:<docker_dir_path>`|save files into the host directory|\n",
    "|`-v <volume_name>:<docker_dir_path>`|save files into the docker's volume (i.e. folder)|\n",
    "|**Stop a container**||\n",
    "|`docker stop <name>` or `<id>`|forcibly stop the container|\n",
    "|**Remove containers**||\n",
    "|`docker rm <name>` or `<id>`|remove a container|\n",
    "|`docker rm $(docker ps -qa)`|remove all the containers using ids|\n",
    "|**Volume**||\n",
    "|`docker volume ls`|list the volumes|\n",
    "|`docker volume create <name>`|create a volume|\n",
    "|**Remove images**||\n",
    "|`docker rmi <id>`||\n",
    "|`docker rmi $(docker images -q)`||"
   ]
  },
  {
   "cell_type": "markdown",
   "id": "87601ebb-f780-426d-a875-7f3ac5f0f592",
   "metadata": {},
   "source": [
    "## Docker file"
   ]
  },
  {
   "cell_type": "markdown",
   "id": "d2c77102-5cd2-4755-8a66-f4da92887c85",
   "metadata": {},
   "source": [
    "```python\n",
    "FROM python:3.11\n",
    "\n",
    "RUN mkdir -p /usr/scr/app/\n",
    "WORKDIR /usr/src/app/\n",
    "\n",
    "COPY . /usr/src/app/\n",
    "RUN pip install --no-cache-dir -r requirements.txt\n",
    "\n",
    "EXPOSE 8080  # forward the port\n",
    "\n",
    "# using bash\n",
    "CMD ['python', 'app.py']\n",
    "# or without bash\n",
    "ENTRYPOINT ['python', 'app.py']\n",
    "```"
   ]
  },
  {
   "cell_type": "markdown",
   "id": "0a2b45a3-57ba-4734-ae5f-ba139babd5fd",
   "metadata": {},
   "source": [
    "ChatGPT:\n",
    "\n",
    "In a Dockerfile, the `RUN` command is used to execute commands during the build of the image. These commands are executed at build time and the results are committed to the image. For example, you can use RUN to install dependencies, create directories, and so on.\n",
    "\n",
    "On the other hand, `CMD` is used to provide default commands for the container to run when it is started from the image. If a command is specified with `CMD` in the Dockerfile, it will be the default command that runs when you start a container from the image. If a command is specified with `CMD` but the user specifies a different command when starting the container, the user's command will override the `CMD` instruction.\n",
    "\n",
    "In your given Dockerfile, the `CMD` instruction is used to provide the default command to start the application when a container is created from the image. If a user needs to start the container with a different command, they can override it when starting the container."
   ]
  },
  {
   "cell_type": "markdown",
   "id": "371f3cd9-1b44-495e-8e67-32c53916ed74",
   "metadata": {},
   "source": []
  },
  {
   "cell_type": "markdown",
   "id": "36ee8568-74b4-4a3e-a66e-d1259a8d45e5",
   "metadata": {},
   "source": []
  },
  {
   "cell_type": "markdown",
   "id": "77d4b01c-4c31-416f-940a-6c8fadda1341",
   "metadata": {},
   "source": []
  },
  {
   "cell_type": "markdown",
   "id": "b9f5a277-7ee9-41d2-986a-a0abca37023a",
   "metadata": {},
   "source": []
  },
  {
   "cell_type": "markdown",
   "id": "4c1ff27d-bf53-4f75-819e-fc476e558dee",
   "metadata": {},
   "source": []
  },
  {
   "cell_type": "markdown",
   "id": "e951a939-8c20-4cb3-a6a3-b4867fec313e",
   "metadata": {},
   "source": []
  },
  {
   "cell_type": "markdown",
   "id": "3ecd4523-201a-4cfe-a659-68909211a97e",
   "metadata": {},
   "source": []
  },
  {
   "cell_type": "markdown",
   "id": "65a141f3-2ce1-4279-8bd4-43850f2eb23a",
   "metadata": {},
   "source": []
  },
  {
   "cell_type": "markdown",
   "id": "433ec3ff-eaa6-46d5-a165-5c66e80ef883",
   "metadata": {},
   "source": []
  },
  {
   "cell_type": "markdown",
   "id": "0ed6f47d-5e6b-4e48-a54d-db9b6b8f68d8",
   "metadata": {},
   "source": []
  },
  {
   "cell_type": "markdown",
   "id": "aa528a1c-8e79-434e-9c27-30af5ea5eee5",
   "metadata": {},
   "source": []
  },
  {
   "cell_type": "markdown",
   "id": "afbc2406-727a-46cd-bf37-983c328f7651",
   "metadata": {},
   "source": []
  },
  {
   "cell_type": "markdown",
   "id": "a6f489c8-2ecd-4671-8860-64fcb3a108e6",
   "metadata": {},
   "source": []
  },
  {
   "cell_type": "markdown",
   "id": "275ad462-0335-492a-bb12-a88e4c5117a4",
   "metadata": {},
   "source": []
  },
  {
   "cell_type": "markdown",
   "id": "ca866e70-12f9-45c8-a6ee-feebe2321f1d",
   "metadata": {},
   "source": []
  },
  {
   "cell_type": "markdown",
   "id": "74c15ee6-09cc-4392-92f8-33a01529c7bf",
   "metadata": {},
   "source": []
  },
  {
   "cell_type": "markdown",
   "id": "535112b3-a655-43a3-98f3-45514dd31c20",
   "metadata": {},
   "source": []
  },
  {
   "cell_type": "markdown",
   "id": "166430db-b998-4da1-a575-49b6f1899398",
   "metadata": {},
   "source": []
  },
  {
   "cell_type": "markdown",
   "id": "072db1ff-aa3a-41b6-944a-901e49a9d0cc",
   "metadata": {},
   "source": []
  },
  {
   "cell_type": "markdown",
   "id": "215b64d8-74bb-4186-bb84-d9eff93ecd71",
   "metadata": {},
   "source": []
  },
  {
   "cell_type": "markdown",
   "id": "c75099cd-7226-4a81-91e7-5c2a07f1bd5b",
   "metadata": {},
   "source": []
  },
  {
   "cell_type": "markdown",
   "id": "29220472-3f99-4e7d-8571-ab7223484233",
   "metadata": {},
   "source": []
  },
  {
   "cell_type": "markdown",
   "id": "f70ee97d-e240-4e68-a8fb-7fe5b66a6c48",
   "metadata": {},
   "source": []
  },
  {
   "cell_type": "markdown",
   "id": "da5c9c5b-275c-4a97-83a3-89190cbf60ad",
   "metadata": {},
   "source": []
  },
  {
   "cell_type": "markdown",
   "id": "44d375d4-d95a-4b99-8a60-92a0599bd3db",
   "metadata": {},
   "source": []
  },
  {
   "cell_type": "markdown",
   "id": "d3693e46-14ed-469a-8a5e-9d89c2859b1e",
   "metadata": {},
   "source": []
  },
  {
   "cell_type": "markdown",
   "id": "ebc45226-c5b5-4420-b758-b48aa0078a36",
   "metadata": {},
   "source": []
  },
  {
   "cell_type": "markdown",
   "id": "d415c22c-4e86-4631-a91e-3280fcc0b057",
   "metadata": {},
   "source": []
  }
 ],
 "metadata": {
  "kernelspec": {
   "display_name": "venv3.12",
   "language": "python",
   "name": "venv3.12"
  },
  "language_info": {
   "codemirror_mode": {
    "name": "ipython",
    "version": 3
   },
   "file_extension": ".py",
   "mimetype": "text/x-python",
   "name": "python",
   "nbconvert_exporter": "python",
   "pygments_lexer": "ipython3",
   "version": "3.12.1"
  }
 },
 "nbformat": 4,
 "nbformat_minor": 5
}
